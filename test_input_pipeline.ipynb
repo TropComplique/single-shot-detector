{
 "cells": [
  {
   "cell_type": "code",
   "execution_count": null,
   "metadata": {},
   "outputs": [],
   "source": [
    "%load_ext autoreload\n",
    "%autoreload 2"
   ]
  },
  {
   "cell_type": "code",
   "execution_count": null,
   "metadata": {},
   "outputs": [],
   "source": [
    "import tensorflow as tf\n",
    "import numpy as np\n",
    "from PIL import Image, ImageDraw\n",
    "\n",
    "from src.input_pipeline import Pipeline"
   ]
  },
  {
   "cell_type": "markdown",
   "metadata": {},
   "source": [
    "# Get images and boxes"
   ]
  },
  {
   "cell_type": "code",
   "execution_count": null,
   "metadata": {
    "scrolled": false
   },
   "outputs": [],
   "source": [
    "tf.reset_default_graph()\n",
    "\n",
    "pipeline = Pipeline(\n",
    "    ['data/val_shards/shard-0000.tfrecords'],\n",
    "    batch_size=24, image_size=(512, 512),\n",
    "    repeat=False, shuffle=False, \n",
    "    augmentation=True\n",
    ")\n",
    "features, labels = pipeline.get_batch()"
   ]
  },
  {
   "cell_type": "code",
   "execution_count": null,
   "metadata": {},
   "outputs": [],
   "source": [
    "with tf.Session() as sess:\n",
    "    sess.run(pipeline.init)\n",
    "    I, B, L, N = sess.run([\n",
    "        features['images'], labels['boxes'],\n",
    "        labels['labels'], labels['num_boxes']\n",
    "    ])"
   ]
  },
  {
   "cell_type": "markdown",
   "metadata": {},
   "source": [
    "# Show an augmented image with boxes"
   ]
  },
  {
   "cell_type": "code",
   "execution_count": null,
   "metadata": {},
   "outputs": [],
   "source": [
    "def draw_boxes(image, boxes, labels):\n",
    "    image_copy = image.copy()\n",
    "    draw = ImageDraw.Draw(image_copy, 'RGBA')\n",
    "    width, height = image.size\n",
    "\n",
    "    for box, label in zip(boxes, labels):\n",
    "        ymin, xmin, ymax, xmax = box\n",
    "        xmin, xmax = width*xmin, width*xmax\n",
    "        ymin, ymax = height*ymin, height*ymax\n",
    "\n",
    "        text = str(label)\n",
    "        fill = (255, 255, 255, 45)\n",
    "        outline = 'black'\n",
    "\n",
    "        draw.rectangle(\n",
    "            [(xmin, ymin), (xmax, ymax)],\n",
    "            fill=fill, outline=outline\n",
    "        )\n",
    "        draw.rectangle(\n",
    "            [(xmin, ymin), (xmin + 6*len(text) + 4, ymin + 12)],\n",
    "            fill='white', outline='white'\n",
    "        )\n",
    "        draw.text((xmin + 2, ymin + 2), text, fill='red')\n",
    "\n",
    "    return image_copy"
   ]
  },
  {
   "cell_type": "code",
   "execution_count": null,
   "metadata": {},
   "outputs": [],
   "source": [
    "# choose an image\n",
    "i = 0\n",
    "image = Image.fromarray((np.transpose(I[i], [1, 2, 0])*255.0).astype('uint8'))\n",
    "num_boxes = N[i]\n",
    "boxes = B[i][:num_boxes]\n",
    "classes = L[i][:num_boxes]\n",
    "\n",
    "draw_boxes(image, boxes, classes)"
   ]
  },
  {
   "cell_type": "markdown",
   "metadata": {},
   "source": [
    "# Test correctness of the pipeline"
   ]
  },
  {
   "cell_type": "code",
   "execution_count": null,
   "metadata": {},
   "outputs": [],
   "source": [
    "# make sure that all images are read at least once"
   ]
  },
  {
   "cell_type": "code",
   "execution_count": null,
   "metadata": {},
   "outputs": [],
   "source": [
    "tf.reset_default_graph()\n",
    "\n",
    "filenames = [\n",
    "    'data/val_shards/shard-0000.tfrecords', \n",
    "    'data/val_shards/shard-0001.tfrecords',\n",
    "    'data/val_shards/shard-0002.tfrecords'\n",
    "]\n",
    "pipeline = Pipeline(\n",
    "    filenames,\n",
    "    batch_size=1, image_size=(512, 512),\n",
    "    repeat=False, shuffle=True, \n",
    "    augmentation=False\n",
    ")\n",
    "features, labels = pipeline.get_batch()"
   ]
  },
  {
   "cell_type": "code",
   "execution_count": null,
   "metadata": {
    "scrolled": true
   },
   "outputs": [],
   "source": [
    "# test 1\n",
    "read_filenames = []\n",
    "with tf.Session() as sess:\n",
    "    sess.run(pipeline.init)\n",
    "    try:\n",
    "        while True:\n",
    "            F = sess.run(features['filenames'])\n",
    "            read_filenames.append(F)\n",
    "    except tf.errors.OutOfRangeError:\n",
    "        pass\n",
    "    \n",
    "read_filenames = np.concatenate(read_filenames)"
   ]
  },
  {
   "cell_type": "code",
   "execution_count": null,
   "metadata": {},
   "outputs": [],
   "source": [
    "# test 2\n",
    "# set repeat=True\n",
    "read_filenames = []\n",
    "num_batches = 0\n",
    "with tf.Session() as sess:\n",
    "    sess.run(pipeline.init)\n",
    "    while num_batches < 20:\n",
    "        F = sess.run(features['filenames'])\n",
    "        read_filenames.append(F)\n",
    "        num_batches += 1\n",
    "\n",
    "read_filenames = np.concatenate(read_filenames)"
   ]
  },
  {
   "cell_type": "code",
   "execution_count": null,
   "metadata": {},
   "outputs": [],
   "source": [
    "print('number of images read:', len(read_filenames))\n",
    "print('number of unique images read:', len(np.unique(read_filenames)))"
   ]
  }
 ],
 "metadata": {
  "kernelspec": {
   "display_name": "Python 3",
   "language": "python",
   "name": "python3"
  },
  "language_info": {
   "codemirror_mode": {
    "name": "ipython",
    "version": 3
   },
   "file_extension": ".py",
   "mimetype": "text/x-python",
   "name": "python",
   "nbconvert_exporter": "python",
   "pygments_lexer": "ipython3",
   "version": "3.6.3"
  }
 },
 "nbformat": 4,
 "nbformat_minor": 2
}

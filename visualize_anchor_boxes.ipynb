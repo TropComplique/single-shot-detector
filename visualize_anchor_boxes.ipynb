{
 "cells": [
  {
   "cell_type": "code",
   "execution_count": null,
   "metadata": {},
   "outputs": [],
   "source": [
    "%load_ext autoreload\n",
    "%autoreload 2"
   ]
  },
  {
   "cell_type": "code",
   "execution_count": null,
   "metadata": {},
   "outputs": [],
   "source": [
    "import numpy as np\n",
    "import tensorflow as tf\n",
    "import matplotlib.pyplot as plt\n",
    "%matplotlib inline\n",
    "\n",
    "from src import SSD, AnchorGenerator, FeatureExtractor\n",
    "from src.backbones import mobilenet_v1_base\n",
    "from src.anchor_generator import tile_anchors"
   ]
  },
  {
   "cell_type": "markdown",
   "metadata": {},
   "source": [
    "# Generate anchors"
   ]
  },
  {
   "cell_type": "code",
   "execution_count": null,
   "metadata": {},
   "outputs": [],
   "source": [
    "tf.reset_default_graph()\n",
    "\n",
    "height, width = 360, 640\n",
    "images = tf.placeholder(tf.float32, [None, 3, height, width])\n",
    "\n",
    "is_training = True\n",
    "def backbone(images, is_training):\n",
    "    return mobilenet_v1_base(images, is_training, min_depth=8, depth_multiplier=1.0)\n",
    "    \n",
    "feature_extractor = FeatureExtractor(backbone, is_training)\n",
    "anchor_generator = AnchorGenerator()\n",
    "\n",
    "feature_maps = feature_extractor(images)\n",
    "anchors = anchor_generator(feature_maps, images)\n",
    "\n",
    "\n",
    "more_anchors = tile_anchors(\n",
    "    width/height,\n",
    "    6, 10, scales=(0.5, 0.5, 0.5, 0.5, 0.5, 0.57), \n",
    "    aspect_ratios=(1.0, 2.0, 3.0, 0.5, 0.333, 1.0), \n",
    "    anchor_stride=(1/6, 1/10), \n",
    "    anchor_offset=(1/12, 1/20)\n",
    ")"
   ]
  },
  {
   "cell_type": "code",
   "execution_count": null,
   "metadata": {},
   "outputs": [],
   "source": [
    "feature_maps"
   ]
  },
  {
   "cell_type": "code",
   "execution_count": null,
   "metadata": {},
   "outputs": [],
   "source": [
    "anchors"
   ]
  },
  {
   "cell_type": "code",
   "execution_count": null,
   "metadata": {},
   "outputs": [],
   "source": [
    "anchor_generator.num_basis_anchors"
   ]
  },
  {
   "cell_type": "code",
   "execution_count": null,
   "metadata": {},
   "outputs": [],
   "source": [
    "num_anchors_per_feature_map = anchor_generator.num_anchors_per_feature_map\n",
    "num_anchors_per_feature_map"
   ]
  },
  {
   "cell_type": "code",
   "execution_count": null,
   "metadata": {},
   "outputs": [],
   "source": [
    "anchor_generator.feature_map_shape_list"
   ]
  },
  {
   "cell_type": "code",
   "execution_count": null,
   "metadata": {},
   "outputs": [],
   "source": [
    "with tf.Session() as sess:\n",
    "    anchor_boxes = sess.run(anchors)\n",
    "    more_anchor_boxes = sess.run(more_anchors)\n",
    "    \n",
    "\n",
    "i = 2\n",
    "start = sum(num_anchors_per_feature_map[:i])\n",
    "anchor_boxes = anchor_boxes[start:(start + num_anchors_per_feature_map[i])]\n",
    "anchor_boxes.shape"
   ]
  },
  {
   "cell_type": "code",
   "execution_count": null,
   "metadata": {},
   "outputs": [],
   "source": [
    "more_anchor_boxes.shape"
   ]
  },
  {
   "cell_type": "code",
   "execution_count": null,
   "metadata": {},
   "outputs": [],
   "source": [
    "# anchor_boxes = anchor_boxes.reshape((6, 10, 6, 4))\n",
    "more_anchor_boxes = more_anchor_boxes.reshape((6, 10, 6, 4))"
   ]
  },
  {
   "cell_type": "markdown",
   "metadata": {},
   "source": [
    "# Show non clipped anchors"
   ]
  },
  {
   "cell_type": "code",
   "execution_count": null,
   "metadata": {},
   "outputs": [],
   "source": [
    "ymin, xmin, ymax, xmax = [more_anchor_boxes[:, :, :, i] for i in range(4)]\n",
    "\n",
    "h, w = height*(ymax - ymin), width*(xmax - xmin)\n",
    "cy, cx = height*ymin + 0.5*h, width*xmin + 0.5*w\n",
    "\n",
    "centers = np.stack([cy, cx], axis=3)\n",
    "anchor_sizes = np.stack([h, w], axis=3)"
   ]
  },
  {
   "cell_type": "code",
   "execution_count": null,
   "metadata": {},
   "outputs": [],
   "source": [
    "fig, ax = plt.subplots(1, dpi=100, figsize=(int(5*width/height), 5))\n",
    "unique_centers = centers[:, :, 0, :].reshape(-1, 2)\n",
    "unique_sizes = anchor_sizes[0, 0, :, :]\n",
    "\n",
    "i = 25\n",
    "for j, point in enumerate(unique_centers):\n",
    "    cy, cx = point\n",
    "    color = 'g' if j == i else 'r' \n",
    "    ax.plot([cx], [cy], marker='o', markersize=3, color=color)\n",
    "\n",
    "cy, cx = unique_centers[i] \n",
    "for box in unique_sizes:\n",
    "    h, w = box\n",
    "    xmin, ymin = cx - 0.5*w, cy - 0.5*h\n",
    "    rect = plt.Rectangle(\n",
    "        (xmin, ymin), w, h,\n",
    "        linewidth=1.0, edgecolor='k', facecolor='none'\n",
    "    )\n",
    "    ax.add_patch(rect)\n",
    "\n",
    "plt.xlim([0, width]);\n",
    "plt.ylim([0, height]);"
   ]
  }
 ],
 "metadata": {
  "kernelspec": {
   "display_name": "Python 3",
   "language": "python",
   "name": "python3"
  },
  "language_info": {
   "codemirror_mode": {
    "name": "ipython",
    "version": 3
   },
   "file_extension": ".py",
   "mimetype": "text/x-python",
   "name": "python",
   "nbconvert_exporter": "python",
   "pygments_lexer": "ipython3",
   "version": "3.6.3"
  }
 },
 "nbformat": 4,
 "nbformat_minor": 2
}
